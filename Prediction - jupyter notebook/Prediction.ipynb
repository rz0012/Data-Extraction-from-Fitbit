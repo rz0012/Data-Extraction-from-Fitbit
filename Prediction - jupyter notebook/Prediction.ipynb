{
  "nbformat": 4,
  "nbformat_minor": 0,
  "metadata": {
    "colab": {
      "name": "Copy of Mod 3 -- Colab Prediction v2.ipynb",
      "provenance": [],
      "collapsed_sections": []
    },
    "kernelspec": {
      "name": "python3",
      "display_name": "Python 3"
    }
  },
  "cells": [
    {
      "cell_type": "markdown",
      "metadata": {
        "id": "OQyMD2iPHYLv"
      },
      "source": [
        "we will perform prediction using two correlated data series,\n",
        "we will first import our files into Colab.\n"
      ]
    },
    {
      "cell_type": "code",
      "metadata": {
        "id": "Z0k_cYBn9Zgo",
        "colab": {
          "base_uri": "https://localhost:8080/",
          "height": 436
        },
        "outputId": "2f9ab567-0bfb-4eda-845e-3cb63e177b35"
      },
      "source": [
        "import pandas as pd\n",
        "import matplotlib.pyplot as plt\n",
        "%matplotlib inline\n",
        "\n",
        "typ = int(input(\"Please enter a number for the file type you would like to upload (1).xlsx (2).csv:\\n\"))\n",
        "\n",
        "if typ != 1 and typ != 2:\n",
        "  print(colored('ERROR: invalid input entered. Please restart this section.', 'red'))\n",
        "\n",
        "else:\n",
        "  loc = int(input(\"Please enter a number for the resource location from which to import data (1)Google Drive (2)Local Drive:\\n\"))\n",
        "  \n",
        "  print('NOTE: For the following data, be sure a date column exists for each.')\n",
        "\n",
        "  if loc != 1 and loc != 2:\n",
        "    print(colored('ERROR: invalid input entered. Please restart this section.', 'red'))\n",
        "\n",
        "  else:\n",
        "    if loc == 1: # Google Drive\n",
        "      \n",
        "      print(\"Click on the link to get authentication to allow Google to access your Drive. You should see a screen with\\n“Google Cloud SDK wants to access your Google Account” at the top. After you allow permission,\\ncopy the given verification code and paste it in the box in Colab.\")\n",
        "      from google.colab import drive\n",
        "      drive.mount('/content/drive')\n",
        "      print()\n",
        "\n",
        "      if typ == 1: # .xlsx\n",
        "        FileName = input(\"Please copy the path of your .xlsx file and paste it here,\\nyou can do that by going to the lefthand bar and clicking on the folder icon,\\nthen go to your mounted drive and go to your file,\\nthen right click there and copy the path. \")\n",
        "        print(\"\\nLoading data...\\n\")\n",
        "\n",
        "        dataFrame = pd.ExcelFile(FileName)\n",
        "        print(dataFrame.sheet_names)\n",
        "\n",
        "        sheet1 = input(\"Please input a name to represent the data from your first .csv file\\nPlease use the data with the higher time resolution:\\n\")\n",
        "        sheet2 = input(\"Please input a name to represent the data from your second .csv file:\\n\")   \n",
        "    \n",
        "        dataFrame1 = dataFrame.parse(sheet1)\n",
        "        dataFrame2 = dataFrame.parse(sheet2)\n",
        "        \n",
        "      elif typ == 2: # .csv\n",
        "        FileName1 = input(\"please copy the path of your first .csv file and paste it here,\\nyou can do that by going to the lefthand bar and clicking on the folder icon,\\nthen go to your mounted drive and go to your file,\\nthen right click there and copy the path. \\n(please use the data with lower time resolution compared to other data if available) \")\n",
        "        FileName2 = input(\"please copy the path of your second .csv file and paste it here,\\nyou can do that by going to the lefthand bar and clicking on the folder icon,\\nthen go to your mounted drive and go to your file,\\nthen right click there and copy the path. \")\n",
        "\n",
        "        dataFrame1 = pd.read_csv(FileName1)\n",
        "        dataFrame2 = pd.read_csv(FileName2)\n",
        "    \n",
        "        sheet1 = input(\"Please input a name to represent the data from your first .csv file\\n(Please use the data with the higher time resolution, or pick either if they have equal resolution):\\n\")\n",
        "        sheet2 = input(\"Please input a name to represent the data from your second .csv file:\\n\") \n",
        "\n",
        "    elif loc == 2: # Local drive\n",
        "      from google.colab import files\n",
        "      import io\n",
        "    \n",
        "      if typ == 1: # .xlsx\n",
        "        uploaded = list(files.upload().values())[0]\n",
        "        dataFrame = pd.ExcelFile(io.BytesIO(uploaded))\n",
        "        print(dataFrame.sheet_names)\n",
        "        \n",
        "        sheet1 = input(\"Please type the exact first sheet name you would like to use data from:\\n(Please use the data with the higher time resolution, or pick either if they have equal resolution):\\n\")\n",
        "        sheet2 = input(\"Please type the exact second sheet name you would like to use data from:\\n\")\n",
        "    \n",
        "        dataFrame1 = dataFrame.parse(sheet1)\n",
        "        dataFrame2 = dataFrame.parse(sheet2)\n",
        "\n",
        "      elif typ == 2: # .csv\n",
        "        print('Please select the first .csv file to download\\n(please use the data with lower time resolution compared to other data if available) (note: any files after the first will be ignored):')\n",
        "        uploaded1 = list(files.upload().values())[0]\n",
        "        print('Please select the second .csv file to download:')\n",
        "        uploaded2= list(files.upload().values())[0]\n",
        "        \n",
        "        dataFrame1 = pd.read_csv(io.BytesIO(uploaded1))\n",
        "        dataFrame2 = pd.read_csv(io.BytesIO(uploaded2))\n",
        "    \n",
        "        sheet1 = input(\"Please input a name to represent the data from your first .csv file\\nPlease use the data with the higher time resolution:\\n\")\n",
        "        sheet2 = input(\"Please input a name to represent the data from your second .csv file:\\n\")  "
      ],
      "execution_count": null,
      "outputs": [
        {
          "output_type": "stream",
          "text": [
            "Please enter a number for the file type you would like to upload (1).xlsx (2).csv:\n",
            "1\n",
            "Please enter a number for the resource location from which to import data (1)Google Drive (2)Local Drive:\n",
            "1\n",
            "NOTE: For the following data, be sure a date column exists for each.\n",
            "Click on the link to get authentication to allow Google to access your Drive. You should see a screen with\n",
            "“Google Cloud SDK wants to access your Google Account” at the top. After you allow permission,\n",
            "copy the given verification code and paste it in the box in Colab.\n",
            "Drive already mounted at /content/drive; to attempt to forcibly remount, call drive.mount(\"/content/drive\", force_remount=True).\n",
            "\n",
            "Please copy the path of your .xlsx file and paste it here,\n",
            "you can do that by going to the lefthand bar and clicking on the folder icon,\n",
            "then go to your mounted drive and go to your file,\n",
            "then right click there and copy the path. /content/drive/My Drive/Colab Notebooks/Copy of data_extractV4_6jun2020.xlsx\n",
            "\n",
            "Loading data...\n",
            "\n",
            "['Fitbit_Heart_Rate', 'Fitbit_Body_Fat', 'Fitbit_Body_Weight', 'Fitbit_Calories_IntraDay', 'Fitbit_Sleep', 'Fitbit_Distance_IntraDay', 'Fitbit_Steps_IntraDay']\n",
            "Please type the exact first sheet name you would like to use data from:\n",
            "(Please use the data with the higher time resolution, or pick either if they have equal resolution):\n",
            "Fitbit_Heart_Rate\n",
            "Please type the exact second sheet name you would like to use data from:\n",
            "Fitbit_Calories_IntraDay\n"
          ],
          "name": "stdout"
        }
      ]
    },
    {
      "cell_type": "markdown",
      "metadata": {
        "id": "aSfyn_OiOpBw"
      },
      "source": [
        "we must select the columns to use for our data."
      ]
    },
    {
      "cell_type": "code",
      "metadata": {
        "id": "DqFh8ffOjOJb",
        "colab": {
          "base_uri": "https://localhost:8080/",
          "height": 126
        },
        "outputId": "ee65a10a-df13-4628-f294-23ae452b93c3"
      },
      "source": [
        "print(sheet1,\":\",list(dataFrame1.columns))\n",
        "print()\n",
        "print(sheet2,\":\",list(dataFrame2.columns))\n",
        "print()\n",
        "\n",
        "y1 = input(\"Please enter the data column from \" + sheet1 + \" you would like to use for prediction: \")\n",
        "y2 = input(\"Please enter the data column from \" + sheet2 + \" you would like to use for prediction: \")\n",
        "\n",
        "value1 = sheet1+\"-\"+y1\n",
        "value2 = sheet2+\"-\"+y2"
      ],
      "execution_count": null,
      "outputs": [
        {
          "output_type": "stream",
          "text": [
            "Fitbit_Heart_Rate : ['Unnamed: 0', 'time', 'value', 'date']\n",
            "\n",
            "Fitbit_Calories_IntraDay : ['Unnamed: 0', 'level', 'mets', 'time', 'value', 'date']\n",
            "\n",
            "Please enter the data column from Fitbit_Heart_Rate you would like to use for prediction: value\n",
            "Please enter the data column from Fitbit_Calories_IntraDay you would like to use for prediction: value\n"
          ],
          "name": "stdout"
        }
      ]
    },
    {
      "cell_type": "markdown",
      "metadata": {
        "id": "tBcsBZ-0wRKw"
      },
      "source": [
        "we will be using unsynchronized data. This means that we will need to do some preprocessing. Since our two sets of data relate to the same time range but may include different points of time, we will need to find a way to solve this. We will synchronize our data by taking the average across each minute for our higher resolution data."
      ]
    },
    {
      "cell_type": "code",
      "metadata": {
        "id": "-DUJ65fRuTtZ",
        "colab": {
          "base_uri": "https://localhost:8080/",
          "height": 72
        },
        "outputId": "66dcab42-0722-46da-f96a-9c8739df72a8"
      },
      "source": [
        "from datetime import datetime\n",
        "from time import time\n",
        "\n",
        "start = time()\n",
        "print(\"Synchronizing data. Note: This may take several minutes based on the size of data used.\")\n",
        "\n",
        "syncedData = [] # This will be where we initially store our data once synced\n",
        "\n",
        "i = 0 # This will be our index to iterate over our dataset using a while loop\n",
        "\n",
        "while i < len(dataFrame1)-1:\n",
        "  # 'j' will be used to compare the date, hour, and minute of rows\n",
        "  # directly after 'i' to see if they fall within the same minute\n",
        "  j = i+1\n",
        "\n",
        "  date1 = dataFrame1.iloc[i][\"date\"]\n",
        "  time1 = datetime.strptime(dataFrame1.iloc[i][\"time\"], \"%H:%M:%S\")\n",
        "\n",
        "  # This list will keep track of all of the values from our first dataset that\n",
        "  # fall into the same minute as 'i'\n",
        "  currentMinuteValues = [dataFrame1.iloc[i][y1]]\n",
        "\n",
        "  date2 = dataFrame1.iloc[j][\"date\"]\n",
        "  time2 = datetime.strptime(dataFrame1.iloc[j][\"time\"], \"%H:%M:%S\")\n",
        "\n",
        "  # This loop will compare the times for 'i' and 'j'. If they fall within the same minute, we will add the value\n",
        "  # at 'j' to our current minute list and increment 'j' so that we may compare the time at the next entry.\n",
        "  # This will continue until 'j' is no longer within the same minute as 'i'\n",
        "  while date1 == date2 and time1.hour == time2.hour and time1.minute == time2.minute and j < len(dataFrame1)-1:\n",
        "    currentMinuteValues.append(dataFrame1.iloc[j][y1])\n",
        "    j += 1\n",
        "    date2 = dataFrame1.iloc[j][\"date\"]\n",
        "    time2 = datetime.strptime(dataFrame1.iloc[j][\"time\"], \"%H:%M:%S\")\n",
        "  \n",
        "  # Once all of the data points that fall into the current minute are gathered,\n",
        "  # we can average them, then add the averaged value to our synced data\n",
        "  if len(currentMinuteValues) > 8: # Only minutes where the number of entries is greater than 8 will be considered\n",
        "    # Obtain the value to use for the current minute from dataset 1 by averaging all values within the minute\n",
        "    minuteData1 = sum(currentMinuteValues) / len(currentMinuteValues)\n",
        "\n",
        "    # Obtain the corresponding value from our second dataset\n",
        "    minWithoutSeconds = time1.replace(second=0, microsecond=0).strftime(\"%H:%M:%S\")\n",
        "    minuteRow = dataFrame2[(dataFrame2[\"date\"] == date1) & (dataFrame2[\"time\"] == minWithoutSeconds)]\n",
        "    minuteData2 = minuteRow.iloc[0][y2]\n",
        "    syncedData.append([date1, minWithoutSeconds, minuteData1, minuteData2])\n",
        "    \n",
        "  # Update i to the first entry of the next minute, before we begin the loop again\n",
        "  i = j\n",
        "\n",
        "# Once synchronization is completed, print the total time and number of data points synchronized\n",
        "end = time()\n",
        "totalTime = (end-start)/60\n",
        "if totalTime > 1:\n",
        "  print(\"Total time required to process data: {:.2f} minutes\".format(totalTime))\n",
        "else:\n",
        "  print(\"Total time required to process data: {:.1f} seconds\".format(end-start))\n",
        "print(\"Total number of synchronized data points: {}\".format(len(syncedData)))"
      ],
      "execution_count": null,
      "outputs": [
        {
          "output_type": "stream",
          "text": [
            "Synchronizing data. Note: This may take several minutes based on the size of data used.\n",
            "Total time required to process data: 2.61 minutes\n",
            "Total number of synchronized data points: 6633\n"
          ],
          "name": "stdout"
        }
      ]
    },
    {
      "cell_type": "markdown",
      "metadata": {
        "id": "d6LnI3je-f2c"
      },
      "source": [
        "We can view the properly synchronized and preprocessed data, using the following lines of code, to make sure the data is obtained properly:"
      ]
    },
    {
      "cell_type": "code",
      "metadata": {
        "id": "DqqtPK8nu0vh",
        "colab": {
          "base_uri": "https://localhost:8080/",
          "height": 508
        },
        "outputId": "bb2e0ad5-cccf-41cc-e582-57166b46d106"
      },
      "source": [
        "syncedData_df = pd.DataFrame(syncedData,columns=[\"date\", \"time\", value1, value2])\n",
        "pd.set_option(\"display.max_columns\", None)\n",
        "print(syncedData_df)"
      ],
      "execution_count": null,
      "outputs": [
        {
          "output_type": "stream",
          "text": [
            "           date      time  Fitbit_Heart_Rate-value  \\\n",
            "0    2020-05-06  23:31:00                68.222222   \n",
            "1    2020-05-06  23:32:00                66.555556   \n",
            "2    2020-05-06  23:46:00                72.666667   \n",
            "3    2020-05-07  08:23:00                74.888889   \n",
            "4    2020-05-07  08:25:00                79.400000   \n",
            "...         ...       ...                      ...   \n",
            "6628 2020-05-29  20:50:00                69.444444   \n",
            "6629 2020-05-29  20:52:00                78.700000   \n",
            "6630 2020-05-29  20:55:00                69.900000   \n",
            "6631 2020-05-29  21:02:00                74.666667   \n",
            "6632 2020-05-29  21:03:00                84.400000   \n",
            "\n",
            "      Fitbit_Calories_IntraDay-value  \n",
            "0                            1.31652  \n",
            "1                            1.09710  \n",
            "2                            3.51072  \n",
            "3                            1.42623  \n",
            "4                            1.42623  \n",
            "...                              ...  \n",
            "6628                         1.31244  \n",
            "6629                         3.49984  \n",
            "6630                         1.42181  \n",
            "6631                         3.28110  \n",
            "6632                         5.90598  \n",
            "\n",
            "[6633 rows x 4 columns]\n"
          ],
          "name": "stdout"
        }
      ]
    },
    {
      "cell_type": "markdown",
      "metadata": {
        "id": "b_lhRrdvLsx8"
      },
      "source": [
        "Now, we may begin the machine learning process. First, we will pick which data series we would like to use for our dependent variable (the variable we would like to predict), and use the other as our independent variable (the variable to use for prediction on the other variable)."
      ]
    },
    {
      "cell_type": "code",
      "metadata": {
        "id": "w_9AICQdVLAy",
        "colab": {
          "base_uri": "https://localhost:8080/",
          "height": 53
        },
        "outputId": "0abd5824-12c3-401b-ae36-fe6045978c6a"
      },
      "source": [
        "dataP = int(input(\"Please state which data series you would like to predict: \\n(1)\"+value1+\", (2)\"+value2+\": \"))\n",
        "if dataP == 1:\n",
        "  predictionData = pd.DataFrame({value2: syncedData_df[value2], value1: syncedData_df[value1]})\n",
        "  col1 = value2\n",
        "  col2 = value1\n",
        "\n",
        "elif dataP == 2:\n",
        "  predictionData = pd.DataFrame({value1: syncedData_df[value1], value2: syncedData_df[value2]})\n",
        "  col1 = value1\n",
        "  col2 = value2"
      ],
      "execution_count": null,
      "outputs": [
        {
          "output_type": "stream",
          "text": [
            "Please state which data series you would like to predict: \n",
            "(1)Fitbit_Heart_Rate-value, (2)Fitbit_Calories_IntraDay-value: 1\n"
          ],
          "name": "stdout"
        }
      ]
    },
    {
      "cell_type": "markdown",
      "metadata": {
        "id": "PEgXUanYzz6M"
      },
      "source": [
        "Before we create and train our model, we will run the following code to produce a linear regression line which we will use to compare to our final results. Using numpy.polyfit, we can obtain the line of best fit for two-dimensional data."
      ]
    },
    {
      "cell_type": "code",
      "metadata": {
        "id": "5z5KhfB4gHo8",
        "colab": {
          "base_uri": "https://localhost:8080/",
          "height": 314
        },
        "outputId": "938c92e5-569b-4ba9-8e96-a77f81f9b86b"
      },
      "source": [
        "import numpy as np\n",
        "from numpy import polyfit\n",
        "\n",
        "# Plotting the raw data\n",
        "plt.plot(predictionData[col1], predictionData[col2], '.',zorder=0,label = \"correlated data plots\")\n",
        "\n",
        "# Calculate line of best fit\n",
        "m, b = np.polyfit(predictionData[col1], predictionData[col2], 1)\n",
        "\n",
        "# Plotting slope, using the slope-intercept equation\n",
        "plt.plot(predictionData[col1], b + m*predictionData[col1],'r', label = \"Best Fit Line\")\n",
        "\n",
        "plt.legend()\n",
        "plt.title(col1 +\" VS \"+ col2)\n",
        "plt.xlabel(col1)\n",
        "plt.ylabel(col2)\n",
        "plt.figure()\n",
        "plt.show()"
      ],
      "execution_count": null,
      "outputs": [
        {
          "output_type": "display_data",
          "data": {
            "image/png": "[encoded data removed]",
            "text/plain": [
              "<Figure size 432x288 with 1 Axes>"
            ]
          },
          "metadata": {
            "tags": [],
            "needs_background": "light"
          }
        },
        {
          "output_type": "display_data",
          "data": {
            "text/plain": [
              "<Figure size 432x288 with 0 Axes>"
            ]
          },
          "metadata": {
            "tags": []
          }
        }
      ]
    },
    {
      "cell_type": "markdown",
      "metadata": {
        "id": "dTCoS3RVSRP2"
      },
      "source": [
        "Assuming our model is able to train well, the resulting slope and intercept should be similar to the values below."
      ]
    },
    {
      "cell_type": "code",
      "metadata": {
        "id": "2IbTqtC-AUPt",
        "colab": {
          "base_uri": "https://localhost:8080/",
          "height": 53
        },
        "outputId": "b29f26ac-389c-4039-9e0b-6382df301f55"
      },
      "source": [
        "print(\"intercept:\", b)\n",
        "print(\"slope:\", m)"
      ],
      "execution_count": null,
      "outputs": [
        {
          "output_type": "stream",
          "text": [
            "intercept: 61.68182027279625\n",
            "slope: 5.872392273097362\n"
          ],
          "name": "stdout"
        }
      ]
    },
    {
      "cell_type": "markdown",
      "metadata": {
        "id": "Mt4ih9D_MLm_"
      },
      "source": [
        "Now, we may produce our machine learning algorithm. Using scikit-learn, we can do this in very few lines of code. The following section includes all of the steps for splitting the data into a training and testing set, creating the model, and then training the model."
      ]
    },
    {
      "cell_type": "code",
      "metadata": {
        "id": "8EP5AYxwIY3w"
      },
      "source": [
        "# Importing sklearn libraries for training and linear regression\n",
        "from sklearn.model_selection import train_test_split \n",
        "from sklearn.linear_model import LinearRegression\n",
        "\n",
        "# Preparing data and labels\n",
        "X = predictionData.iloc[:, :-1].values #first column in dataframe\n",
        "y = predictionData.iloc[:, 1].values #second column in dataframe\n",
        "\n",
        "# Splitting training and testing data\n",
        "X_train, X_test, y_train, y_test = train_test_split(X, y, test_size=0.25, random_state=0) \n",
        "\n",
        "# sklearn allows us to create a model in just one line of code\n",
        "regressor = LinearRegression()\n",
        "\n",
        "# Training is equally simple when using the fit() function on our model\n",
        "regressor.fit(X_train, y_train);"
      ],
      "execution_count": null,
      "outputs": []
    },
    {
      "cell_type": "markdown",
      "metadata": {
        "id": "Vh-w4bwe2DNP"
      },
      "source": [
        "Now that the model is trained, we can test our results and compare the predictions to their true values."
      ]
    },
    {
      "cell_type": "code",
      "metadata": {
        "id": "4QAzPosgAiGP",
        "colab": {
          "base_uri": "https://localhost:8080/",
          "height": 442
        },
        "outputId": "f284e80b-36e3-4145-dcb1-c764007c80ee"
      },
      "source": [
        "# Predicting values for training and testing \n",
        "train_predictions = regressor.predict(X_train)\n",
        "test_predictions = regressor.predict(X_test)\n",
        "\n",
        "print(\"Predictions for test dataset: \")\n",
        "df = pd.DataFrame({value1: X_test[:,0], \"Actual \"+value2: y_test, \"Predicted \"+value2: test_predictions})\n",
        "df"
      ],
      "execution_count": null,
      "outputs": [
        {
          "output_type": "stream",
          "text": [
            "Predictions for test dataset: \n"
          ],
          "name": "stdout"
        },
        {
          "output_type": "execute_result",
          "data": {
            "text/html": [
              "<div>\n",
              "<style scoped>\n",
              "    .dataframe tbody tr th:only-of-type {\n",
              "        vertical-align: middle;\n",
              "    }\n",
              "\n",
              "    .dataframe tbody tr th {\n",
              "        vertical-align: top;\n",
              "    }\n",
              "\n",
              "    .dataframe thead th {\n",
              "        text-align: right;\n",
              "    }\n",
              "</style>\n",
              "<table border=\"1\" class=\"dataframe\">\n",
              "  <thead>\n",
              "    <tr style=\"text-align: right;\">\n",
              "      <th></th>\n",
              "      <th>Fitbit_Heart_Rate-value</th>\n",
              "      <th>Actual Fitbit_Calories_IntraDay-value</th>\n",
              "      <th>Predicted Fitbit_Calories_IntraDay-value</th>\n",
              "    </tr>\n",
              "  </thead>\n",
              "  <tbody>\n",
              "    <tr>\n",
              "      <th>0</th>\n",
              "      <td>3.51072</td>\n",
              "      <td>76.333333</td>\n",
              "      <td>82.217297</td>\n",
              "    </tr>\n",
              "    <tr>\n",
              "      <th>1</th>\n",
              "      <td>3.29130</td>\n",
              "      <td>78.777778</td>\n",
              "      <td>80.934994</td>\n",
              "    </tr>\n",
              "    <tr>\n",
              "      <th>2</th>\n",
              "      <td>1.42623</td>\n",
              "      <td>74.888889</td>\n",
              "      <td>70.035417</td>\n",
              "    </tr>\n",
              "    <tr>\n",
              "      <th>3</th>\n",
              "      <td>1.31652</td>\n",
              "      <td>70.555556</td>\n",
              "      <td>69.394265</td>\n",
              "    </tr>\n",
              "    <tr>\n",
              "      <th>4</th>\n",
              "      <td>1.09710</td>\n",
              "      <td>61.777778</td>\n",
              "      <td>68.111963</td>\n",
              "    </tr>\n",
              "    <tr>\n",
              "      <th>...</th>\n",
              "      <td>...</td>\n",
              "      <td>...</td>\n",
              "      <td>...</td>\n",
              "    </tr>\n",
              "    <tr>\n",
              "      <th>1654</th>\n",
              "      <td>1.31652</td>\n",
              "      <td>78.900000</td>\n",
              "      <td>69.394265</td>\n",
              "    </tr>\n",
              "    <tr>\n",
              "      <th>1655</th>\n",
              "      <td>1.09710</td>\n",
              "      <td>65.888889</td>\n",
              "      <td>68.111963</td>\n",
              "    </tr>\n",
              "    <tr>\n",
              "      <th>1656</th>\n",
              "      <td>1.09710</td>\n",
              "      <td>59.090909</td>\n",
              "      <td>68.111963</td>\n",
              "    </tr>\n",
              "    <tr>\n",
              "      <th>1657</th>\n",
              "      <td>1.53118</td>\n",
              "      <td>89.555556</td>\n",
              "      <td>70.648751</td>\n",
              "    </tr>\n",
              "    <tr>\n",
              "      <th>1658</th>\n",
              "      <td>1.09710</td>\n",
              "      <td>59.000000</td>\n",
              "      <td>68.111963</td>\n",
              "    </tr>\n",
              "  </tbody>\n",
              "</table>\n",
              "<p>1659 rows × 3 columns</p>\n",
              "</div>"
            ],
            "text/plain": [
              "      Fitbit_Heart_Rate-value  Actual Fitbit_Calories_IntraDay-value  \\\n",
              "0                     3.51072                              76.333333   \n",
              "1                     3.29130                              78.777778   \n",
              "2                     1.42623                              74.888889   \n",
              "3                     1.31652                              70.555556   \n",
              "4                     1.09710                              61.777778   \n",
              "...                       ...                                    ...   \n",
              "1654                  1.31652                              78.900000   \n",
              "1655                  1.09710                              65.888889   \n",
              "1656                  1.09710                              59.090909   \n",
              "1657                  1.53118                              89.555556   \n",
              "1658                  1.09710                              59.000000   \n",
              "\n",
              "      Predicted Fitbit_Calories_IntraDay-value  \n",
              "0                                    82.217297  \n",
              "1                                    80.934994  \n",
              "2                                    70.035417  \n",
              "3                                    69.394265  \n",
              "4                                    68.111963  \n",
              "...                                        ...  \n",
              "1654                                 69.394265  \n",
              "1655                                 68.111963  \n",
              "1656                                 68.111963  \n",
              "1657                                 70.648751  \n",
              "1658                                 68.111963  \n",
              "\n",
              "[1659 rows x 3 columns]"
            ]
          },
          "metadata": {
            "tags": []
          },
          "execution_count": 10
        }
      ]
    },
    {
      "cell_type": "markdown",
      "metadata": {
        "id": "Sai5EsZW9ANR"
      },
      "source": [
        "Error scores are used by our machine learning model to calculate the distance from our predictions to the actual real-world values. During training and testing, these values are automatically produced and used by the model to improve its predictions, with the goal of minimizing these errors. We can use sklearn.metrics to calculate and return a sample of different types of errors that can be calculated below. Note that on average the training error rate should be lower than the corresponding testing error rate. Can you think of why this should be the case?"
      ]
    },
    {
      "cell_type": "code",
      "metadata": {
        "id": "76YVY-XqA3eu",
        "colab": {
          "base_uri": "https://localhost:8080/",
          "height": 144
        },
        "outputId": "3c5bfff2-3d50-4537-e202-a33685a6808e"
      },
      "source": [
        "# Importing metrics from sklearn to calculate errors\n",
        "from sklearn import metrics\n",
        "\n",
        "print('Mean Absolute Error of training results:', metrics.mean_absolute_error(y_train, train_predictions))\n",
        "print('Mean Squared Error of training results:', metrics.mean_squared_error(y_train, train_predictions))\n",
        "print('Root Mean Squared Error of training results:', np.sqrt(metrics.mean_squared_error(y_train, train_predictions)))\n",
        "print()\n",
        "print('Mean Absolute Error of testing results:', metrics.mean_absolute_error(y_test, test_predictions))\n",
        "print('Mean Squared Error of testing results:', metrics.mean_squared_error(y_test, test_predictions))\n",
        "print('Root Mean Squared Error of testing results:', np.sqrt(metrics.mean_squared_error(y_test, test_predictions)))"
      ],
      "execution_count": null,
      "outputs": [
        {
          "output_type": "stream",
          "text": [
            "Mean Absolute Error of training results: 5.937544187754273\n",
            "Mean Squared Error of training results: 56.735339145621374\n",
            "Root Mean Squared Error of training results: 7.532286448723347\n",
            "\n",
            "Mean Absolute Error of testing results: 6.017929157807114\n",
            "Mean Squared Error of testing results: 59.15155703824491\n",
            "Root Mean Squared Error of testing results: 7.691004943324696\n"
          ],
          "name": "stdout"
        }
      ]
    },
    {
      "cell_type": "markdown",
      "metadata": {
        "id": "Z1oe9fiY-pR5"
      },
      "source": [
        "Along with the analysis we have done so far, we can also plot the regression function that has been produced by our model alongside both our training data and our testing data."
      ]
    },
    {
      "cell_type": "code",
      "metadata": {
        "id": "RSLO0gCiABer",
        "colab": {
          "base_uri": "https://localhost:8080/",
          "height": 593
        },
        "outputId": "313dab3a-2e2b-453d-f05d-279583f483d6"
      },
      "source": [
        "# Visualizing the training set results\n",
        "plt_train = plt\n",
        "plt_train.scatter(X_train, y_train,zorder = 0)\n",
        "plt_train.plot(X_train, regressor.predict(X_train), color='red',label = \"Linear Regression Line\")\n",
        "plt_train.legend()\n",
        "plt_train.title(col1 + \" VS \" + col2 + \" per Minute - Training Set\")\n",
        "plt_train.xlabel(col1)\n",
        "plt_train.ylabel(col2)\n",
        "plt_train.show()\n",
        "\n",
        "print()\n",
        "\n",
        "# Visualizing the testing set results\n",
        "plt_test = plt\n",
        "plt_test.scatter(X_test, y_test,zorder = 0)\n",
        "plt_test.plot(X_test, regressor.predict(X_test), color='red',label = \"Linear Regression Line\")\n",
        "plt_test.legend()\n",
        "plt_test.title(col1 + \" VS \" + col2 + \" per Minute - Testing Set\")\n",
        "plt_test.xlabel(col1)\n",
        "plt_test.ylabel(col2)\n",
        "plt_test.show()"
      ],
      "execution_count": null,
      "outputs": [
        {
          "output_type": "display_data",
          "data": {
            "image/png": "[encoded data removed]",
            "text/plain": [
              "<Figure size 432x288 with 1 Axes>"
            ]
          },
          "metadata": {
            "tags": [],
            "needs_background": "light"
          }
        },
        {
          "output_type": "stream",
          "text": [
            "\n"
          ],
          "name": "stdout"
        },
        {
          "output_type": "display_data",
          "data": {
            "image/png": "[encoded data removed]",
            "text/plain": [
              "<Figure size 432x288 with 1 Axes>"
            ]
          },
          "metadata": {
            "tags": [],
            "needs_background": "light"
          }
        }
      ]
    },
    {
      "cell_type": "markdown",
      "metadata": {
        "id": "gr40OewsInkQ"
      },
      "source": [
        "We can also view the difference between our model's approximated best fit line and the one calculated using the numpy.polyfit fitting method from before."
      ]
    },
    {
      "cell_type": "code",
      "metadata": {
        "id": "bEYaegw51fRa",
        "colab": {
          "base_uri": "https://localhost:8080/",
          "height": 146
        },
        "outputId": "5b4d774f-a4c1-4a83-bd80-c85118896bf1"
      },
      "source": [
        "print(\"Line of Best Fit:\")\n",
        "print(\"intercept:\", b)\n",
        "print(\"slope:\", m)\n",
        "\n",
        "print(\"\\nOur Model's Approximated Best Fit Line:\")\n",
        "print(\"intercept: \",regressor.intercept_)\n",
        "print(\"slope: \",regressor.coef_)"
      ],
      "execution_count": null,
      "outputs": [
        {
          "output_type": "stream",
          "text": [
            "Line of Best Fit:\n",
            "intercept: 61.68182027279625\n",
            "slope: 5.872392273097362\n",
            "\n",
            "Our Model's Approximated Best Fit Line:\n",
            "intercept:  61.70044663618225\n",
            "slope:  [5.84405776]\n"
          ],
          "name": "stdout"
        }
      ]
    },
    {
      "cell_type": "markdown",
      "metadata": {
        "id": "-Q2-Ep6YKpqo"
      },
      "source": [
        "\\* Note: If we already have a method which can determine the exact line of best fit, why would we want to make a model which is less efficient and less accurate?\n",
        "\n",
        "We wouldn't.\n",
        "\n",
        "Machine learning is valuable when dealing with higher-dimensional data with more complex relationships. This is a proof of concept, but machine learning algorithms really shine when put into use where other methods fail."
      ]
    },
    {
      "cell_type": "markdown",
      "metadata": {
        "id": "NRjvOEEPS7bX"
      },
      "source": [
        "Now that our model is trained, we can now use it to make predictions on our selected variable. Using the code below, you can enter a value to see the predicted results!"
      ]
    },
    {
      "cell_type": "code",
      "metadata": {
        "id": "jm5V-aUF64G5",
        "colab": {
          "base_uri": "https://localhost:8080/",
          "height": 53
        },
        "outputId": "b76474b6-8cde-4df4-9d55-da67dd541d8c"
      },
      "source": [
        "tst = int(input(\"please enter any \" + col1 + \" to predict \" + col2 + \": \"))\n",
        "\n",
        "user_pred = regressor.predict(np.array([tst]).reshape(-1, 1))\n",
        "\n",
        "print(user_pred)"
      ],
      "execution_count": null,
      "outputs": [
        {
          "output_type": "stream",
          "text": [
            "please enter any Fitbit_Calories_IntraDay-value to predict Fitbit_Heart_Rate-value: 7\n",
            "[102.60885094]\n"
          ],
          "name": "stdout"
        }
      ]
    }
  ]
}