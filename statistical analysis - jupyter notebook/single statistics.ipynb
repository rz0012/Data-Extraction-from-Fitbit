{
  "nbformat": 4,
  "nbformat_minor": 0,
  "metadata": {
    "colab": {
      "name": "Copy of Mod1 colab v2.ipynb",
      "provenance": [],
      "collapsed_sections": []
    },
    "kernelspec": {
      "name": "python3",
      "display_name": "Python 3"
    }
  },
  "cells": [
    {
      "cell_type": "markdown",
      "metadata": {
        "id": "t6aXNnI3Aa4I"
      },
      "source": [
        "In this module, we will import data, plot the data, and calculate some basic statistics from them.\n",
        "\n",
        "We will begin by importing the data, either from Google Drive our our local system."
      ]
    },
    {
      "cell_type": "code",
      "metadata": {
        "id": "MbgTD8VXAbNH",
        "colab": {
          "base_uri": "https://localhost:8080/",
          "height": 368
        },
        "outputId": "e7546a40-1704-4ec6-d3a4-cbb6b9a10a0a"
      },
      "source": [
        "# First, import pandas and matplotlib libraries to be used for reading .csv/.xlsx files and plotting the data\n",
        "import pandas as pd\n",
        "import matplotlib.pyplot as plt\n",
        "from termcolor import colored\n",
        "\n",
        "# This command requests the user to input the file type to upload. \"input()\" creates the request for user input,\n",
        "# while \"int()\" ensures the user input is read as an integer variable.\n",
        "typ = int(input(\"Please enter a number for the file type you would like to upload (1).xlsx (2).csv:\\n\"))\n",
        "\n",
        "if typ != 1 and typ != 2:\n",
        "  print(colored('ERROR: invalid input entered. Please restart this section.', 'red'))\n",
        "\n",
        "else:\n",
        "  loc = int(input(\"Please enter a number for the resource location from which to import data (1)Google Drive (2)Local Drive:\\n\"))\n",
        "  \n",
        "  if loc != 1 and loc != 2:\n",
        "    print(colored('ERROR: invalid input entered. Please restart this section.', 'red'))\n",
        "\n",
        "  else:\n",
        "    if loc == 1: # Google Drive\n",
        "      \n",
        "      print(\"Click on the link to get authentication to allow Google to access your Drive. You should see a screen with\\n“Google Cloud SDK wants to access your Google Account” at the top. After you allow permission,\\ncopy the given verification code and paste it in the box in Colab.\")          \n",
        "      # This will mount Google Drive to the Colab session\n",
        "      from google.colab import drive\n",
        "      drive.mount('/content/drive')\n",
        "      \n",
        "      print()\n",
        "      fileName = input(\"Please copy the path of your .csv/.xlsx file and paste it here. You can do that by going to the lefthand bar and\\nclicking on the folder icon, then going to your mounted drive and your file, then right clicking there and copying the path.\\n\")\n",
        "        \n",
        "      if typ == 1:\n",
        "        print(\"\\nLoading data...\\n\")\n",
        "        dataFrame = pd.ExcelFile(fileName)\n",
        "        print(dataFrame.sheet_names)\n",
        "        xl = input(\"Please type the exact sheet name you would like to use data from:\\n\")\n",
        "        dataFrame = dataFrame.parse(xl)\n",
        "      elif typ == 2:\n",
        "        dataFrame = pd.read_csv(fileName)\n",
        "\n",
        "    elif loc == 2: # Local drive\n",
        "      # This will import the 'files' and 'io' libraries to access files and perform tasks on them\n",
        "      from google.colab import files\n",
        "      import io\n",
        "      uploaded = list(files.upload().values())[0]\n",
        "\n",
        "      if typ == 2:\n",
        "        dataFrame = pd.read_csv(io.BytesIO(uploaded))  \n",
        "      \n",
        "      elif typ == 1:\n",
        "        dataFrame = pd.ExcelFile(io.BytesIO(uploaded))\n",
        "        print(dataFrame.sheet_names)\n",
        "        xl = input(\"Please type the exact sheet name you want to use data of:\\n\")\n",
        "        dataFrame = dataFrame.parse(xl)"
      ],
      "execution_count": null,
      "outputs": [
        {
          "output_type": "stream",
          "text": [
            "Please enter a number for the file type you would like to upload (1).xlsx (2).csv:\n",
            "1\n",
            "Please enter a number for the resource location from which to import data (1)Google Drive (2)Local Drive:\n",
            "1\n",
            "Click on the link to get authentication to allow Google to access your Drive. You should see a screen with\n",
            "“Google Cloud SDK wants to access your Google Account” at the top. After you allow permission,\n",
            "copy the given verification code and paste it in the box in Colab.\n",
            "Drive already mounted at /content/drive; to attempt to forcibly remount, call drive.mount(\"/content/drive\", force_remount=True).\n",
            "\n",
            "Please copy the path of your .csv/.xlsx file and paste it here. You can do that via going to the left bar and click on the folder icon,\n",
            "then going to your mounted drive and your file, then right clicking there and copying the path.\n",
            "/content/drive/My Drive/Colab Notebooks/Copy of data_extractV4_6jun2020.xlsx\n",
            "\n",
            "Loading data...\n",
            "\n",
            "['Fitbit_Heart_Rate', 'Fitbit_Body_Fat', 'Fitbit_Body_Weight', 'Fitbit_Calories_IntraDay', 'Fitbit_Sleep', 'Fitbit_Distance_IntraDay', 'Fitbit_Steps_IntraDay']\n",
            "Please type the exact sheet name you would like to use data from:\n",
            "Fitbit_Calories_IntraDay\n"
          ],
          "name": "stdout"
        }
      ]
    },
    {
      "cell_type": "markdown",
      "metadata": {
        "id": "UA5kow348zw7"
      },
      "source": [
        "Now that we have imported our data, we can plot them and calculate some simple statistics from them."
      ]
    },
    {
      "cell_type": "code",
      "metadata": {
        "id": "no-Q1CgN8u2L",
        "colab": {
          "base_uri": "https://localhost:8080/",
          "height": 408
        },
        "outputId": "c2466055-1c47-440c-e4c3-8c351c411285"
      },
      "source": [
        "# This will display the column names\n",
        "print('Available sheets:')\n",
        "print(dataFrame.columns)\n",
        "\n",
        "plot1 = input(\"Please enter the correct option from the above column names you would like to compare against for X-axis:\\n\")\n",
        "plot2 = input(\"Please enter the correct option from the above column names you would like to compare against for y-axis;\\nplease choose numerical data:\\n\")\n",
        "\n",
        "# Plot and display the graph\n",
        "dataFrame.plot(kind='line', x=plot1, y=plot2, color='red')\n",
        "plt.show()"
      ],
      "execution_count": null,
      "outputs": [
        {
          "output_type": "stream",
          "text": [
            "Available sheets:\n",
            "Index(['Unnamed: 0', 'level', 'mets', 'time', 'value', 'date'], dtype='object')\n",
            "Please enter the correct option from the above column names you would like to compare against for X-axis:\n",
            "time\n",
            "Please enter the correct option from the above column names you would like to compare against for y-axis;\n",
            "please choose numerical data:\n",
            "value\n"
          ],
          "name": "stdout"
        },
        {
          "output_type": "display_data",
          "data": {
            "image/png": "[encoded data removed]",
            "text/plain": [
              "<Figure size 432x288 with 1 Axes>"
            ]
          },
          "metadata": {
            "tags": [],
            "needs_background": "light"
          }
        }
      ]
    },
    {
      "cell_type": "code",
      "metadata": {
        "id": "dBu60cdNuc-6",
        "colab": {
          "base_uri": "https://localhost:8080/",
          "height": 293
        },
        "outputId": "001db47a-7795-4fc7-af48-3c9c52ab8468"
      },
      "source": [
        "print('Available sheets:')\n",
        "print(dataFrame.columns)\n",
        "\n",
        "value1 = input(\"Please enter the option from the  column names you would like to obtain statistics for:\\n\")\n",
        "\n",
        "# # Compute the mean\n",
        "# mean = dataFrame[value1].mean()\n",
        "# print(\"Mean: \" + str(mean))\n",
        "\n",
        "# # Compute standard deviation\n",
        "# std = dataFrame[value1].std()\n",
        "# print(\"Standard Deviation: \" + str(std))\n",
        "\n",
        "# Remaining statistics\n",
        "stats = dataFrame[value1].describe()\n",
        "print(stats)"
      ],
      "execution_count": null,
      "outputs": [
        {
          "output_type": "stream",
          "text": [
            "Available sheets:\n",
            "Index(['Unnamed: 0', 'level', 'mets', 'time', 'value', 'date'], dtype='object')\n",
            "Please enter the option from the  column names you would like to obtain statistics for:\n",
            "value\n",
            "Mean: 1.6147254477505402\n",
            "Standard Deviation: 1.1553153505705105\n"
          ],
          "name": "stdout"
        },
        {
          "output_type": "execute_result",
          "data": {
            "text/plain": [
              "count    44640.000000\n",
              "mean         1.614725\n",
              "std          1.155315\n",
              "min          1.093700\n",
              "25%          1.097100\n",
              "50%          1.097100\n",
              "75%          1.426230\n",
              "max         12.726360\n",
              "Name: value, dtype: float64"
            ]
          },
          "metadata": {
            "tags": []
          },
          "execution_count": 12
        }
      ]
    }
  ]
}