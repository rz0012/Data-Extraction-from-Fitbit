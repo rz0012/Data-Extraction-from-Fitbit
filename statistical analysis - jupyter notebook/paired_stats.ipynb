{
  "nbformat": 4,
  "nbformat_minor": 0,
  "metadata": {
    "colab": {
      "name": "Copy of Mod2 -- paired stats.ipynb",
      "provenance": [],
      "collapsed_sections": []
    },
    "kernelspec": {
      "name": "python3",
      "display_name": "Python 3"
    }
  },
  "cells": [
    {
      "cell_type": "code",
      "metadata": {
        "id": "zMVKxJ_NotUP",
        "colab": {
          "base_uri": "https://localhost:8080/",
          "height": 441
        },
        "outputId": "f80fbba3-5b5a-4ca0-eade-3ad80d0f23f5"
      },
      "source": [
        "#we are firslty importing pandas and matplotlib libraries for reding .csv/.xlsx files and plotting it in a graph\n",
        "import pandas as pd\n",
        "import matplotlib.pyplot as plt\n",
        " \n",
        " \n",
        "typ = int(input(\"please enter a number describing file type you want to upload (101).xlsx (102).csv: \"))\n",
        " \n",
        "#this command is to get user choice for file source.\n",
        "loc = int(input(\"Please enter a number describing resource location to get file (1)Local Drive (2)Google Drive: \"))\n",
        " \n",
        "if loc == 1:\n",
        " \n",
        "  #importing files and io libraries to perform tasks on files and access those\n",
        "  from google.colab import files\n",
        "  \n",
        "  import io\n",
        " \n",
        "  \n",
        "  if typ == 102:\n",
        "    uploaded1 = files.upload()\n",
        "    localDriveFileName1 = input(\"please enter the exact file name that you have uploaded for first data: \")\n",
        "    uploaded2 = files.upload()\n",
        "    localDriveFileName2 = input(\"please enter the exact file name that you have uploaded for second data: \")\n",
        " \n",
        "    dataFrame1 = pd.read_csv(io.BytesIO(uploaded1[localDriveFileName1]))\n",
        "    dataFrame2 = pd.read_csv(io.BytesIO(uploaded2[localDriveFileName2]))\n",
        " \n",
        "    xl1 = localDriveFileName1\n",
        "    xl2 = localDriveFileName2\n",
        " \n",
        "  elif typ == 101:\n",
        "    uploaded = files.upload()\n",
        "    localDriveFileName = input(\"please enter the exact file name that you have uploaded: \")\n",
        "    dataFrame = pd.ExcelFile(io.BytesIO(uploaded[localDriveFileName]))\n",
        "    print(dataFrame.sheet_names)\n",
        "    print(\"\\nWe are going to compare two correlated data here.\\nChoose whatever data you want to compare make sure to check date in that data otherwise we will not recieve efficient results. \")\n",
        " \n",
        "    xl1 = input(\"please type the exact fisrt sheet name you want to use data of for comparision: \")\n",
        "    xl2 = input(\"please type the exact second sheet name you want to use data of for comparision: \")\n",
        " \n",
        "    dataFrame1 = dataFrame.parse(xl1)\n",
        "    dataFrame2 = dataFrame.parse(xl2)\n",
        " \n",
        "elif loc == 2:\n",
        "  \n",
        "  print(\"Click on the link to get authentication to allow Google to access your Drive. You should see a screen with “Google Cloud SDK wants to access your Google Account” at the top. After you allow permission, copy the given verification code and paste it in the box in Colab.\")          \n",
        "  #this will mount google drive with colab\n",
        "  from google.colab import drive\n",
        "  drive.mount('/content/drive')\n",
        "  \n",
        "  print()\n",
        "    \n",
        "  if typ == 102: \n",
        "    FileName1 = input(\"please copy the path of your first .csv file and paste it here,\\nyou can do that via going to the left bar and click on the folder icon,\\nthen go to your monted drive and go to your file,\\nthen right click there and copy the path. \")\n",
        "    FileName2 = input(\"please copy the path of your second .csv file and paste it here,\\nyou can do that via going to the left bar and click on the folder icon,\\nthen go to your monted drive and go to your file,\\nthen right click there and copy the path. \")\n",
        " \n",
        " \n",
        "    dataFrame1 = pd.read_csv(FileName1)\n",
        "    dataFrame2 = pd.read_csv(FileName2)\n",
        " \n",
        "    xl1 = input(\"please put a name for your first .csv file: \")\n",
        "    xl2 = input(\"please put a name for your second .csv file: \")\n",
        " \n",
        "    \n",
        "  elif typ == 101:\n",
        "    FileName = input(\"please copy the path of your .xlsx file and paste it here,\\nyou can do that via going to the left bar and click on the folder icon,\\nthen go to your monted drive and go to your file,\\nthen right click there and copy the path. \")\n",
        "    print(\"\\nLoading data...\\n\")\n",
        "\n",
        "    dataFrame = pd.ExcelFile(FileName)\n",
        "    print(dataFrame.sheet_names)\n",
        " \n",
        "    print(\"\\nWe are going to compare two correlated data here.\\nChoose whatever data you want to compare make sure to check date in that data otherwise we will not recieve efficient results. \")\n",
        " \n",
        "    xl1 = input(\"please type the exact fisrt sheet name you want to use data of for comparision: \")\n",
        "    xl2 = input(\"please type the exact second sheet name you want to use data of for comparision: \")\n",
        " \n",
        "    dataFrame1 = dataFrame.parse(xl1)\n",
        "    dataFrame2 = dataFrame.parse(xl2)"
      ],
      "execution_count": null,
      "outputs": [
        {
          "output_type": "stream",
          "text": [
            "please enter a number describing file type you want to upload (101).xlsx (102).csv: 101\n",
            "Please enter a number describing resource location to get file (1)Local Drive (2)Google Drive: 2\n",
            "Click on the link to get authentication to allow Google to access your Drive. You should see a screen with “Google Cloud SDK wants to access your Google Account” at the top. After you allow permission, copy the given verification code and paste it in the box in Colab.\n",
            "Go to this URL in a browser: https://accounts.google.com/o/oauth2/auth?client_id=947318989803-6bn6qk8qdgf4n4g3pfee6491hc0brc4i.apps.googleusercontent.com&redirect_uri=urn%3aietf%3awg%3aoauth%3a2.0%3aoob&response_type=code&scope=email%20https%3a%2f%2fwww.googleapis.com%2fauth%2fdocs.test%20https%3a%2f%2fwww.googleapis.com%2fauth%2fdrive%20https%3a%2f%2fwww.googleapis.com%2fauth%2fdrive.photos.readonly%20https%3a%2f%2fwww.googleapis.com%2fauth%2fpeopleapi.readonly\n",
            "\n",
            "Enter your authorization code:\n",
            "··········\n",
            "Mounted at /content/drive\n",
            "\n",
            "please copy the path of your .xlsx file and paste it here,\n",
            "you can do that via going to the left bar and click on the folder icon,\n",
            "then go to your monted drive and go to your file,\n",
            "then right click there and copy the path. /content/drive/My Drive/Colab Notebooks/Copy of data_extractV4_6jun2020.xlsx\n",
            "\n",
            "Loading data...\n",
            "\n",
            "['Fitbit_Heart_Rate', 'Fitbit_Body_Fat', 'Fitbit_Body_Weight', 'Fitbit_Calories_IntraDay', 'Fitbit_Sleep', 'Fitbit_Distance_IntraDay', 'Fitbit_Steps_IntraDay']\n",
            "\n",
            "We are going to compare two correlated data here.\n",
            "Choose whatever data you want to compare make sure to check date in that data otherwise we will not recieve efficient results. \n",
            "please type the exact fisrt sheet name you want to use data of for comparision: Fitbit_Steps_IntraDay\n",
            "please type the exact second sheet name you want to use data of for comparision: Fitbit_Calories_IntraDay\n"
          ],
          "name": "stdout"
        }
      ]
    },
    {
      "cell_type": "code",
      "metadata": {
        "id": "Mgemc4zR0gCq",
        "colab": {
          "base_uri": "https://localhost:8080/",
          "height": 201
        },
        "outputId": "f3921be7-84fa-43e3-ea62-a40e5c4d9f54"
      },
      "source": [
        "print()\n",
        "print(xl1,\": \",dataFrame1.columns)\n",
        "\n",
        "print()\n",
        "print(xl2,\": \",dataFrame2.columns)\n",
        "\n",
        "plot1 = input(\"please enter the correct option from the above column names you want to compare against for X axis.\\nThe 'date' option is required and must be available in both data and have to be same: \")\n",
        "plot2a = input(\"please enter the correct option from the above column names you want to compare against for y axis in the fisrt data name,\\nplease choose numerical data: \")\n",
        "plot2b = input(\"please enter the correct option from the above column names you want to compare against for y axis in the second data name,\\nplease choose numerical data: \")\n"
      ],
      "execution_count": null,
      "outputs": [
        {
          "output_type": "stream",
          "text": [
            "\n",
            "Fitbit_Steps_IntraDay :  Index(['Unnamed: 0', 'time', 'value', 'date'], dtype='object')\n",
            "\n",
            "Fitbit_Calories_IntraDay :  Index(['Unnamed: 0', 'level', 'mets', 'time', 'value', 'date'], dtype='object')\n",
            "please enter the correct option from the above column names you want to compare against for X axis.\n",
            "The 'date' option is required and must be available in both data and have to be same: date\n",
            "please enter the correct option from the above column names you want to compare against for y axis in the fisrt data name,\n",
            "please choose numerical data: value\n",
            "please enter the correct option from the above column names you want to compare against for y axis in the second data name,\n",
            "please choose numerical data: value\n"
          ],
          "name": "stdout"
        }
      ]
    },
    {
      "cell_type": "code",
      "metadata": {
        "id": "ev-6qJ1y6Gq3",
        "colab": {
          "base_uri": "https://localhost:8080/",
          "height": 274
        },
        "outputId": "9769c80b-e511-4981-99ba-17267199f5d3"
      },
      "source": [
        "value1 = xl1+\" \"+plot2a\n",
        "value2 = xl2+\" \"+plot2b\n",
        "\n",
        "dataFrame3 = { value1: dataFrame1[plot2a], value2: dataFrame2[plot2b]}\n",
        "dataFrame3 = pd.DataFrame(dataFrame3)\n",
        "  \n",
        "dataFrame3 = dataFrame3.loc[dataFrame3[value1] != 0]\n",
        "dataFrame3 = dataFrame3.loc[dataFrame3[value2] != 0]\n",
        "\n",
        "print(dataFrame3)"
      ],
      "execution_count": null,
      "outputs": [
        {
          "output_type": "stream",
          "text": [
            "       Fitbit_Steps_IntraDay value  Fitbit_Calories_IntraDay value\n",
            "8609                            17                         3.07188\n",
            "8623                            24                         3.07188\n",
            "8624                            17                         3.29130\n",
            "8626                            15                         3.51072\n",
            "8628                            15                         3.07188\n",
            "...                            ...                             ...\n",
            "41583                           67                         5.90598\n",
            "41584                           31                         3.93732\n",
            "41585                           26                         3.28110\n",
            "41586                           15                         3.06236\n",
            "41587                            9                         2.84362\n",
            "\n",
            "[6774 rows x 2 columns]\n"
          ],
          "name": "stdout"
        }
      ]
    },
    {
      "cell_type": "code",
      "metadata": {
        "id": "ZlPIo5jhARle",
        "colab": {
          "base_uri": "https://localhost:8080/",
          "height": 130
        },
        "outputId": "fdaf8dd9-53f5-4c50-98ed-1ae74d395956"
      },
      "source": [
        "print(\"Pearson correlation coefficient:\")\n",
        "dataFrame3.corr(method ='pearson') "
      ],
      "execution_count": null,
      "outputs": [
        {
          "output_type": "stream",
          "text": [
            "Pearson correlation coefficient:\n"
          ],
          "name": "stdout"
        },
        {
          "output_type": "execute_result",
          "data": {
            "text/html": [
              "<div>\n",
              "<style scoped>\n",
              "    .dataframe tbody tr th:only-of-type {\n",
              "        vertical-align: middle;\n",
              "    }\n",
              "\n",
              "    .dataframe tbody tr th {\n",
              "        vertical-align: top;\n",
              "    }\n",
              "\n",
              "    .dataframe thead th {\n",
              "        text-align: right;\n",
              "    }\n",
              "</style>\n",
              "<table border=\"1\" class=\"dataframe\">\n",
              "  <thead>\n",
              "    <tr style=\"text-align: right;\">\n",
              "      <th></th>\n",
              "      <th>Fitbit_Steps_IntraDay value</th>\n",
              "      <th>Fitbit_Calories_IntraDay value</th>\n",
              "    </tr>\n",
              "  </thead>\n",
              "  <tbody>\n",
              "    <tr>\n",
              "      <th>Fitbit_Steps_IntraDay value</th>\n",
              "      <td>1.000000</td>\n",
              "      <td>0.808823</td>\n",
              "    </tr>\n",
              "    <tr>\n",
              "      <th>Fitbit_Calories_IntraDay value</th>\n",
              "      <td>0.808823</td>\n",
              "      <td>1.000000</td>\n",
              "    </tr>\n",
              "  </tbody>\n",
              "</table>\n",
              "</div>"
            ],
            "text/plain": [
              "                                Fitbit_Steps_IntraDay value  Fitbit_Calories_IntraDay value\n",
              "Fitbit_Steps_IntraDay value                        1.000000                        0.808823\n",
              "Fitbit_Calories_IntraDay value                     0.808823                        1.000000"
            ]
          },
          "metadata": {
            "tags": []
          },
          "execution_count": 5
        }
      ]
    },
    {
      "cell_type": "code",
      "metadata": {
        "id": "pw_7yx0xA7Fy",
        "colab": {
          "base_uri": "https://localhost:8080/",
          "height": 284
        },
        "outputId": "9f039c27-b3e8-49d5-e359-eca198235458"
      },
      "source": [
        "import numpy as np\n",
        "from numpy import mean\n",
        "from numpy.linalg import svd\n",
        "\n",
        "Mean1 = mean(dataFrame3[value1])\n",
        "Mean2 = mean(dataFrame3[value2])\n",
        "print(Mean1)\n",
        "print(Mean2)\n",
        "\n",
        "dataFrame3[value1] = dataFrame3[value1] - Mean1\n",
        "dataFrame3[value2] = dataFrame3[value2] - Mean2\n",
        "\n",
        "print(dataFrame3)\n"
      ],
      "execution_count": null,
      "outputs": [
        {
          "output_type": "stream",
          "text": [
            "4.027483985522402e-15\n",
            "-6.57939077362744e-14\n",
            "       Fitbit_Calories_IntraDay value  Fitbit_Steps_IntraDay value\n",
            "8609                        -0.986627                   -12.637585\n",
            "8623                        -0.986627                    -5.637585\n",
            "8624                        -0.767207                   -12.637585\n",
            "8626                        -0.547787                   -14.637585\n",
            "8628                        -0.986627                   -14.637585\n",
            "...                               ...                          ...\n",
            "41583                        1.847473                    37.362415\n",
            "41584                       -0.121187                     1.362415\n",
            "41585                       -0.777407                    -3.637585\n",
            "41586                       -0.996147                   -14.637585\n",
            "41587                       -1.214887                   -20.637585\n",
            "\n",
            "[6774 rows x 2 columns]\n"
          ],
          "name": "stdout"
        }
      ]
    },
    {
      "cell_type": "code",
      "metadata": {
        "id": "Cj1TKnn-Oc10",
        "colab": {
          "base_uri": "https://localhost:8080/",
          "height": 101
        },
        "outputId": "3b059865-d8c1-4610-be40-93ac9d74bbf0"
      },
      "source": [
        "dataFrame3 = dataFrame3.transpose()\n",
        "print(dataFrame3)"
      ],
      "execution_count": null,
      "outputs": [
        {
          "output_type": "stream",
          "text": [
            "                                    8609      8623   ...      41586      41587\n",
            "Fitbit_Calories_IntraDay value  -0.986627 -0.986627  ...  -0.996147  -1.214887\n",
            "Fitbit_Steps_IntraDay value    -12.637585 -5.637585  ... -14.637585 -20.637585\n",
            "\n",
            "[2 rows x 6774 columns]\n"
          ],
          "name": "stdout"
        }
      ]
    },
    {
      "cell_type": "code",
      "metadata": {
        "id": "zijuA7PX12h6",
        "colab": {
          "base_uri": "https://localhost:8080/",
          "height": 151
        },
        "outputId": "36ef4dfe-cf05-434f-ec51-b51e4aae7127"
      },
      "source": [
        "\n",
        "U,S,VT = svd(dataFrame3,full_matrices=False)\n",
        "print(U)\n",
        "print()\n",
        "print(S)\n",
        "print()\n",
        "print(VT)\n",
        "print()\n"
      ],
      "execution_count": null,
      "outputs": [
        {
          "output_type": "stream",
          "text": [
            "[[-0.04080541 -0.99916711]\n",
            " [-0.99916711  0.04080541]]\n",
            "\n",
            "[2025.78637974   59.99711451]\n",
            "\n",
            "[[0.00625304 0.00280047 0.00624862 ... 0.0018098  0.00723968 0.01020343]\n",
            " [0.00783576 0.01259662 0.00418163 ... 0.01047261 0.00663406 0.00619613]]\n",
            "\n"
          ],
          "name": "stdout"
        }
      ]
    },
    {
      "cell_type": "code",
      "metadata": {
        "id": "-MbrWi3hOGTe"
      },
      "source": [
        "dataFrame3 = dataFrame3.transpose()"
      ],
      "execution_count": null,
      "outputs": []
    },
    {
      "cell_type": "code",
      "metadata": {
        "id": "Ztp40OwM6yQW",
        "colab": {
          "base_uri": "https://localhost:8080/",
          "height": 297
        },
        "outputId": "35a373c2-3ff5-4c03-afa7-658ec1173658"
      },
      "source": [
        " \n",
        "plt.plot(dataFrame3[value1], dataFrame3[value2], '.',zorder=0)\n",
        "\n",
        "plt.quiver(Mean1,Mean2, U[0][0], U[0][1], color=['r'],zorder=1,label=\"direction\")\n",
        "plt.legend()\n",
        "plt.quiver(Mean1,Mean2, U[1][0], U[1][1], color=['y'],zorder=1)\n",
        "plt.xlabel(value1)\n",
        "plt.ylabel(value2)\n",
        "plt.figure()\n",
        "plt.show()"
      ],
      "execution_count": null,
      "outputs": [
        {
          "output_type": "display_data",
          "data": {
            "image/png": "[encoded data removed]",
            "text/plain": [
              "<Figure size 432x288 with 1 Axes>"
            ]
          },
          "metadata": {
            "tags": [],
            "needs_background": "light"
          }
        },
        {
          "output_type": "display_data",
          "data": {
            "text/plain": [
              "<Figure size 432x288 with 0 Axes>"
            ]
          },
          "metadata": {
            "tags": []
          }
        }
      ]
    },
    {
      "cell_type": "code",
      "metadata": {
        "id": "9hlVOC1C8KEP",
        "colab": {
          "base_uri": "https://localhost:8080/",
          "height": 314
        },
        "outputId": "a08ae098-a947-46fc-f2aa-2909f8f8540a"
      },
      "source": [
        " \n",
        "plt.plot(dataFrame3[value1],dataFrame3[value2], '.',zorder=0)\n",
        "plt.legend()\n",
        " \n",
        "plt.quiver(Mean1,Mean2, U[0][0], U[0][1], color=['r'],scale = 1/S[0],zorder=1,label = \"direction\")\n",
        "plt.legend()\n",
        "plt.quiver(Mean1,Mean2, U[1][0], U[1][1], color=['y'],scale = 1/S[1],zorder=1)\n",
        "plt.xlim(-S[0],S[0])\n",
        "plt.ylim(-S[1],S[1])\n",
        "plt.xlabel(value1)\n",
        "plt.ylabel(value2)\n",
        "plt.figure()\n",
        "plt.show()"
      ],
      "execution_count": null,
      "outputs": [
        {
          "output_type": "stream",
          "text": [
            "No handles with labels found to put in legend.\n"
          ],
          "name": "stderr"
        },
        {
          "output_type": "display_data",
          "data": {
            "image/png": "[encoded data removed]",
            "text/plain": [
              "<Figure size 432x288 with 1 Axes>"
            ]
          },
          "metadata": {
            "tags": [],
            "needs_background": "light"
          }
        },
        {
          "output_type": "display_data",
          "data": {
            "text/plain": [
              "<Figure size 432x288 with 0 Axes>"
            ]
          },
          "metadata": {
            "tags": []
          }
        }
      ]
    }
  ]
}