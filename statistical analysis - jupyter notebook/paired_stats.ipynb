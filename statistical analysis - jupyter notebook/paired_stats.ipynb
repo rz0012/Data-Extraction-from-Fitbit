{
  "nbformat": 4,
  "nbformat_minor": 0,
  "metadata": {
    "colab": {
      "name": "Copy of Mod2 -- paired stats v2.ipynb",
      "provenance": [],
      "collapsed_sections": []
    },
    "kernelspec": {
      "name": "python3",
      "display_name": "Python 3"
    }
  },
  "cells": [
    {
      "cell_type": "markdown",
      "metadata": {
        "id": "hWsYHmNmCeXd"
      },
      "source": [
        "In single stat, we performed single value statistics using pandas DataFrames and matplotlib functions.\n",
        "Here, we are going to compare two sets of data using paired statistics.\n",
        "Here, we are going to play a bit more with matplotlib, pandas, and numpy. "
      ]
    },
    {
      "cell_type": "markdown",
      "metadata": {
        "id": "nWLi_L3d4sfa"
      },
      "source": [
        "importing files either from google drive or from local drive with the added functionality of obtaining two .xlsx sheets or two .csv files."
      ]
    },
    {
      "cell_type": "code",
      "metadata": {
        "id": "UMNVM-fbEaFT",
        "colab": {
          "base_uri": "https://localhost:8080/",
          "height": 515
        },
        "outputId": "6476a0a3-bb64-42df-a167-cd2c068bdc70"
      },
      "source": [
        "# Just like in Module 1, we will import our files. The only difference here will\n",
        "# be that two .csv files or two .xlsx sheets will be downloaded instead of one.\n",
        "\n",
        "import pandas as pd\n",
        "import matplotlib.pyplot as plt\n",
        "from termcolor import colored\n",
        "\n",
        "typ = int(input(\"Please enter a number for the file type you would like to upload (1).xlsx (2).csv:\\n\"))\n",
        "\n",
        "if typ != 1 and typ != 2:\n",
        "  print(colored('ERROR: invalid input entered. Please restart this section.', 'red'))\n",
        "\n",
        "else:\n",
        "  loc = int(input(\"Please enter a number for the resource location from which to import data (1)Google Drive (2)Local Drive:\\n\"))\n",
        "  \n",
        "  print('NOTE: For the following data, be sure a date column exists for each.')\n",
        "\n",
        "  if loc != 1 and loc != 2:\n",
        "    print(colored('ERROR: invalid input entered. Please restart this section.', 'red'))\n",
        "\n",
        "  else:\n",
        "    if loc == 1: # Google Drive\n",
        "      \n",
        "      print(\"Click on the link to get authentication to allow Google to access your Drive. You should see a screen with\\n“Google Cloud SDK wants to access your Google Account” at the top. After you allow permission,\\ncopy the given verification code and paste it in the box in Colab.\")\n",
        "      from google.colab import drive\n",
        "      drive.mount('/content/drive')\n",
        "      print()\n",
        "\n",
        "      if typ == 1: # .xlsx\n",
        "        FileName = input(\"Please copy the path of your .xlsx file and paste it here,\\nyou can do that by going to the lefthand bar and clicking on the folder icon,\\nthen go to your monted drive and go to your file,\\nthen right click there and copy the path. \")\n",
        "        print(\"\\nLoading data...\\n\")\n",
        "\n",
        "        dataFrame = pd.ExcelFile(FileName)\n",
        "        print(dataFrame.sheet_names)\n",
        "\n",
        "        sheet1 = input(\"Please type the exact first sheet name you would like to use data from:\\n\")\n",
        "        sheet2 = input(\"Please type the exact second sheet name you would like to use data from:\\n\")\n",
        "    \n",
        "        sheet1_df = dataFrame.parse(sheet1)\n",
        "        sheet2_df = dataFrame.parse(sheet2)\n",
        "        \n",
        "      elif typ == 2: # .csv\n",
        "        FileName1 = input(\"please copy the path of your first .csv file and paste it here,\\nyou can do that by going to the lefthand bar and clicking on the folder icon,\\nthen go to your monted drive and go to your file,\\nthen right click there and copy the path. \")\n",
        "        FileName2 = input(\"please copy the path of your second .csv file and paste it here,\\nyou can do that by going to the lefthand bar and clicking on the folder icon,\\nthen go to your monted drive and go to your file,\\nthen right click there and copy the path. \")\n",
        "\n",
        "        sheet1_df = pd.read_csv(FileName1)\n",
        "        sheet2_df = pd.read_csv(FileName2)\n",
        "    \n",
        "        sheet1 = input(\"Please input a name to represent the data from your first .csv file: \")\n",
        "        sheet2 = input(\"Please input a name to represent the data from your second .csv file: \")\n",
        "\n",
        "    elif loc == 2: # Local drive\n",
        "      from google.colab import files\n",
        "      import io\n",
        "    \n",
        "      if typ == 1: # .xlsx\n",
        "        uploaded = list(files.upload().values())[0]\n",
        "        dataFrame = pd.ExcelFile(io.BytesIO(uploaded))\n",
        "        print(dataFrame.sheet_names)\n",
        "        \n",
        "        sheet1 = input(\"Please type the exact first sheet name you would like to use data from:\\n\")\n",
        "        sheet2 = input(\"Please type the exact second sheet name you would like to use data from:\\n\")\n",
        "    \n",
        "        sheet1_df = dataFrame.parse(sheet1)\n",
        "        sheet2_df = dataFrame.parse(sheet2)\n",
        "\n",
        "      elif typ == 2: # .csv\n",
        "        print('Please select the first .csv file to download (note: any files after the first will be ignored):')\n",
        "        uploaded1 = list(files.upload().values())[0]\n",
        "        print('Please select the second .csv file to download:')\n",
        "        uploaded2= list(files.upload().values())[0]\n",
        "        \n",
        "        sheet1_df = pd.read_csv(io.BytesIO(uploaded1))\n",
        "        sheet2_df = pd.read_csv(io.BytesIO(uploaded2))\n",
        "    \n",
        "        sheet1 = input(\"Please input a name to represent the data from your first .csv file: \")\n",
        "        sheet2 = input(\"Please input a name to represent the data from your second .csv file: \")  "
      ],
      "execution_count": null,
      "outputs": [
        {
          "output_type": "stream",
          "text": [
            "Please enter a number for the file type you would like to upload (1).xlsx (2).csv:\n",
            "1\n",
            "Please enter a number for the resource location from which to import data (1)Google Drive (2)Local Drive:\n",
            "1\n",
            "NOTE: For the following data, be sure a date column exists for each.\n",
            "Click on the link to get authentication to allow Google to access your Drive. You should see a screen with\n",
            "“Google Cloud SDK wants to access your Google Account” at the top. After you allow permission,\n",
            "copy the given verification code and paste it in the box in Colab.\n",
            "Go to this URL in a browser: https://accounts.google.com/o/oauth2/auth?client_id=947318989803-6bn6qk8qdgf4n4g3pfee6491hc0brc4i.apps.googleusercontent.com&redirect_uri=urn%3aietf%3awg%3aoauth%3a2.0%3aoob&response_type=code&scope=email%20https%3a%2f%2fwww.googleapis.com%2fauth%2fdocs.test%20https%3a%2f%2fwww.googleapis.com%2fauth%2fdrive%20https%3a%2f%2fwww.googleapis.com%2fauth%2fdrive.photos.readonly%20https%3a%2f%2fwww.googleapis.com%2fauth%2fpeopleapi.readonly\n",
            "\n",
            "Enter your authorization code:\n",
            "··········\n",
            "Mounted at /content/drive\n",
            "\n",
            "Please copy the path of your .xlsx file and paste it here,\n",
            "you can do that by going to the lefthand bar and clicking on the folder icon,\n",
            "then go to your monted drive and go to your file,\n",
            "then right click there and copy the path. /content/drive/My Drive/Colab Notebooks/Copy of data_extractV4_6jun2020.xlsx\n",
            "\n",
            "Loading data...\n",
            "\n",
            "['Fitbit_Heart_Rate', 'Fitbit_Body_Fat', 'Fitbit_Body_Weight', 'Fitbit_Calories_IntraDay', 'Fitbit_Sleep', 'Fitbit_Distance_IntraDay', 'Fitbit_Steps_IntraDay']\n",
            "Please type the exact first sheet name you would like to use data from:\n",
            "Fitbit_Steps_IntraDay\n",
            "Please type the exact second sheet name you would like to use data from:\n",
            "Fitbit_Calories_IntraDay\n"
          ],
          "name": "stdout"
        }
      ]
    },
    {
      "cell_type": "markdown",
      "metadata": {
        "id": "ByIu-2UHDmM_"
      },
      "source": [
        "this will ask the user to input the columns they would like to use. In this case, the date column is automatically selected for the x-axis. The users must then pick which columns to use for the y-axis from each dataset.\n"
      ]
    },
    {
      "cell_type": "code",
      "metadata": {
        "id": "Mgemc4zR0gCq",
        "colab": {
          "base_uri": "https://localhost:8080/",
          "height": 146
        },
        "outputId": "2964d9c5-8478-4ecf-8758-0e0becb3c270"
      },
      "source": [
        "print(sheet1,\": \",list(sheet1_df.columns))\n",
        "print(sheet2,\": \",list(sheet2_df.columns))\n",
        "print()\n",
        "\n",
        "plot1 = 'date'\n",
        "plot2a = input(\"Please enter the column from the first dataset (column names shown above) that you would like to use.\\nPlease select numerical data: \")\n",
        "if plot2a not in list(sheet1_df.columns):\n",
        "  print(colored('\\n*** ERROR: \\'' + str(plot2a) + '\\' not found in list of columns. Please re-run this block in order to avoid errors in later code. ***\\n', 'red'))\n",
        "plot2b = input(\"Please enter the column from the second dataset (column names shown above) that you would like to use.\\nPlease select numerical data: \")\n",
        "if plot2b not in list(sheet2_df.columns):\n",
        "  print(colored('\\n*** ERROR: \\'' + str(plot2b) + '\\' not found in list of columns. Please re-run this block in order to avoid errors in later code. ***\\n', 'red'))\n",
        "\n",
        "value1 = sheet1+\" \"+plot2a\n",
        "value2 = sheet2+\" \"+plot2b"
      ],
      "execution_count": null,
      "outputs": [
        {
          "output_type": "stream",
          "text": [
            "Fitbit_Steps_IntraDay :  ['Unnamed: 0', 'time', 'value', 'date']\n",
            "Fitbit_Calories_IntraDay :  ['Unnamed: 0', 'level', 'mets', 'time', 'value', 'date']\n",
            "\n",
            "Please enter the column from the first dataset (column names shown above) that you would like to use.\n",
            "Please select numerical data: value\n",
            "Please enter the column from the second dataset (column names shown above) that you would like to use.\n",
            "Please select numerical data: value\n"
          ],
          "name": "stdout"
        }
      ]
    },
    {
      "cell_type": "markdown",
      "metadata": {
        "id": "pND0YwfKD_Vz"
      },
      "source": [
        "Here, we will create a new pandas DataFrame to store the selected data.\n",
        "We will also eliminate rows where values are 0."
      ]
    },
    {
      "cell_type": "code",
      "metadata": {
        "id": "ev-6qJ1y6Gq3",
        "colab": {
          "base_uri": "https://localhost:8080/",
          "height": 274
        },
        "outputId": "e4d13cd1-ac89-423f-cab2-1109d02f928a"
      },
      "source": [
        "# Generating another DataFrame from selected columns\n",
        "pairedData = pd.DataFrame({value1: sheet1_df[plot2a], value2: sheet2_df[plot2b]})\n",
        "\n",
        "# Eliminating \"0\" values\n",
        "pairedData = pairedData.loc[pairedData[value1] != 0]\n",
        "pairedData = pairedData.loc[pairedData[value2] != 0]\n",
        "\n",
        "print(pairedData)"
      ],
      "execution_count": null,
      "outputs": [
        {
          "output_type": "stream",
          "text": [
            "       Fitbit_Steps_IntraDay value  Fitbit_Calories_IntraDay value\n",
            "8609                            17                         3.07188\n",
            "8623                            24                         3.07188\n",
            "8624                            17                         3.29130\n",
            "8626                            15                         3.51072\n",
            "8628                            15                         3.07188\n",
            "...                            ...                             ...\n",
            "41583                           67                         5.90598\n",
            "41584                           31                         3.93732\n",
            "41585                           26                         3.28110\n",
            "41586                           15                         3.06236\n",
            "41587                            9                         2.84362\n",
            "\n",
            "[6774 rows x 2 columns]\n"
          ],
          "name": "stdout"
        }
      ]
    },
    {
      "cell_type": "markdown",
      "metadata": {
        "id": "KbjO-ZOBiz-K"
      },
      "source": [
        "The Pearson Correlation coefficient tells us what the linear relationship between each set of data is. We expect the values along the diagonal to be 1; for the other entries, the closer the value is to 1 or -1, the stronger the relationship (in the latter case, the slope of the line of best fit is negative). If the value is closer to 0, this means the *linear* relationship is very weak or nonexistent."
      ]
    },
    {
      "cell_type": "code",
      "metadata": {
        "id": "ZlPIo5jhARle",
        "colab": {
          "base_uri": "https://localhost:8080/",
          "height": 130
        },
        "outputId": "a4613f78-3c18-4f25-935e-16c80883fb2f"
      },
      "source": [
        "print(\"Pearson Correlation coefficient table:\")\n",
        "pairedData.corr(method='pearson')"
      ],
      "execution_count": null,
      "outputs": [
        {
          "output_type": "stream",
          "text": [
            "Pearson Correlation coefficient table:\n"
          ],
          "name": "stdout"
        },
        {
          "output_type": "execute_result",
          "data": {
            "text/html": [
              "<div>\n",
              "<style scoped>\n",
              "    .dataframe tbody tr th:only-of-type {\n",
              "        vertical-align: middle;\n",
              "    }\n",
              "\n",
              "    .dataframe tbody tr th {\n",
              "        vertical-align: top;\n",
              "    }\n",
              "\n",
              "    .dataframe thead th {\n",
              "        text-align: right;\n",
              "    }\n",
              "</style>\n",
              "<table border=\"1\" class=\"dataframe\">\n",
              "  <thead>\n",
              "    <tr style=\"text-align: right;\">\n",
              "      <th></th>\n",
              "      <th>Fitbit_Steps_IntraDay value</th>\n",
              "      <th>Fitbit_Calories_IntraDay value</th>\n",
              "    </tr>\n",
              "  </thead>\n",
              "  <tbody>\n",
              "    <tr>\n",
              "      <th>Fitbit_Steps_IntraDay value</th>\n",
              "      <td>1.000000</td>\n",
              "      <td>0.808823</td>\n",
              "    </tr>\n",
              "    <tr>\n",
              "      <th>Fitbit_Calories_IntraDay value</th>\n",
              "      <td>0.808823</td>\n",
              "      <td>1.000000</td>\n",
              "    </tr>\n",
              "  </tbody>\n",
              "</table>\n",
              "</div>"
            ],
            "text/plain": [
              "                                Fitbit_Steps_IntraDay value  Fitbit_Calories_IntraDay value\n",
              "Fitbit_Steps_IntraDay value                        1.000000                        0.808823\n",
              "Fitbit_Calories_IntraDay value                     0.808823                        1.000000"
            ]
          },
          "metadata": {
            "tags": []
          },
          "execution_count": 6
        }
      ]
    },
    {
      "cell_type": "code",
      "metadata": {
        "id": "9PgWtQHPVPdk",
        "colab": {
          "base_uri": "https://localhost:8080/",
          "height": 54
        },
        "outputId": "d5c9dc9a-1088-46f3-fa1a-b0a679104ebe"
      },
      "source": [
        "r = pairedData.corr(method ='pearson')\n",
        "print(\"Pearson correlation coefficient between\\n{} and {}: {}\".format(value1, value2, r[value1][value2]))"
      ],
      "execution_count": null,
      "outputs": [
        {
          "output_type": "stream",
          "text": [
            "Pearson correlation coefficient between\n",
            "Fitbit_Steps_IntraDay value and Fitbit_Calories_IntraDay value: 0.8088232748023003\n"
          ],
          "name": "stdout"
        }
      ]
    },
    {
      "cell_type": "markdown",
      "metadata": {
        "id": "5V9OJ61yGRKK"
      },
      "source": [
        "Now, we will perform principal component analysis (PCA).\n",
        "\n",
        "The first step will be to perform single value decomposition (SVD).\n",
        "\n",
        "Before we can do this, we must first center our data by subtracting the mean from both sets of data."
      ]
    },
    {
      "cell_type": "code",
      "metadata": {
        "id": "pw_7yx0xA7Fy",
        "colab": {
          "base_uri": "https://localhost:8080/",
          "height": 311
        },
        "outputId": "72d542be-d774-414c-8db5-5fb3de213895"
      },
      "source": [
        "from numpy import mean\n",
        "\n",
        "Mean1 = mean(pairedData[value1])\n",
        "Mean2 = mean(pairedData[value2])\n",
        "print(Mean1)\n",
        "print(Mean2)\n",
        "\n",
        "pairedData[value1] = pairedData[value1] - Mean1\n",
        "pairedData[value2] = pairedData[value2] - Mean2\n",
        "\n",
        "print(pairedData)"
      ],
      "execution_count": null,
      "outputs": [
        {
          "output_type": "stream",
          "text": [
            "29.63758488337762\n",
            "4.058506921078908\n",
            "       Fitbit_Steps_IntraDay value  Fitbit_Calories_IntraDay value\n",
            "8609                    -12.637585                       -0.986627\n",
            "8623                     -5.637585                       -0.986627\n",
            "8624                    -12.637585                       -0.767207\n",
            "8626                    -14.637585                       -0.547787\n",
            "8628                    -14.637585                       -0.986627\n",
            "...                            ...                             ...\n",
            "41583                    37.362415                        1.847473\n",
            "41584                     1.362415                       -0.121187\n",
            "41585                    -3.637585                       -0.777407\n",
            "41586                   -14.637585                       -0.996147\n",
            "41587                   -20.637585                       -1.214887\n",
            "\n",
            "[6774 rows x 2 columns]\n"
          ],
          "name": "stdout"
        }
      ]
    },
    {
      "cell_type": "markdown",
      "metadata": {
        "id": "DteZ1VPaGzsc"
      },
      "source": [
        "The input to SVD is expected to have the shape *2xN*, but our data is currently *Nx2*. We can easily take the *transpose* of our data, effectively making our rows become the columns and vice versa.\n",
        "\n"
      ]
    },
    {
      "cell_type": "code",
      "metadata": {
        "id": "Cj1TKnn-Oc10",
        "colab": {
          "base_uri": "https://localhost:8080/",
          "height": 109
        },
        "outputId": "5892e980-7352-4a6a-ada6-627c74b5795b"
      },
      "source": [
        "pairedData = pairedData.transpose()\n",
        "print(pairedData)"
      ],
      "execution_count": null,
      "outputs": [
        {
          "output_type": "stream",
          "text": [
            "                                    8609      8623   ...      41586      41587\n",
            "Fitbit_Steps_IntraDay value    -12.637585 -5.637585  ... -14.637585 -20.637585\n",
            "Fitbit_Calories_IntraDay value  -0.986627 -0.986627  ...  -0.996147  -1.214887\n",
            "\n",
            "[2 rows x 6774 columns]\n"
          ],
          "name": "stdout"
        }
      ]
    },
    {
      "cell_type": "markdown",
      "metadata": {
        "id": "Dg4pPAz9HGss"
      },
      "source": [
        "We can now compute the SVD and obtain *U*, *$\\Sigma$*, and *V<sup>T</sup>*.\n",
        "\n"
      ]
    },
    {
      "cell_type": "code",
      "metadata": {
        "id": "zijuA7PX12h6",
        "colab": {
          "base_uri": "https://localhost:8080/",
          "height": 201
        },
        "outputId": "9d4c6040-22d4-40a3-b462-def8e30fad6b"
      },
      "source": [
        "from numpy.linalg import svd\n",
        "\n",
        "U,S,VT = svd(pairedData,full_matrices=False)\n",
        "print(U)\n",
        "print()\n",
        "print(S)\n",
        "print()\n",
        "print(VT)\n",
        "print()\n"
      ],
      "execution_count": null,
      "outputs": [
        {
          "output_type": "stream",
          "text": [
            "[[-0.99916711 -0.04080541]\n",
            " [-0.04080541  0.99916711]]\n",
            "\n",
            "[2025.78637974   59.99711451]\n",
            "\n",
            "[[ 0.00625304  0.00280047  0.00624862 ...  0.0018098   0.00723968\n",
            "   0.01020343]\n",
            " [-0.00783576 -0.01259662 -0.00418163 ... -0.01047261 -0.00663406\n",
            "  -0.00619613]]\n",
            "\n"
          ],
          "name": "stdout"
        }
      ]
    },
    {
      "cell_type": "markdown",
      "metadata": {
        "id": "8Gr75ZazckdX"
      },
      "source": [
        "We can transpose our data back to its original form so that we can now plot it."
      ]
    },
    {
      "cell_type": "code",
      "metadata": {
        "id": "-MbrWi3hOGTe",
        "colab": {
          "base_uri": "https://localhost:8080/",
          "height": 274
        },
        "outputId": "398afa7a-916c-4551-e1da-f92b66f023a2"
      },
      "source": [
        "pairedData = pairedData.transpose()\n",
        "print(pairedData)"
      ],
      "execution_count": null,
      "outputs": [
        {
          "output_type": "stream",
          "text": [
            "       Fitbit_Steps_IntraDay value  Fitbit_Calories_IntraDay value\n",
            "8609                    -12.637585                       -0.986627\n",
            "8623                     -5.637585                       -0.986627\n",
            "8624                    -12.637585                       -0.767207\n",
            "8626                    -14.637585                       -0.547787\n",
            "8628                    -14.637585                       -0.986627\n",
            "...                            ...                             ...\n",
            "41583                    37.362415                        1.847473\n",
            "41584                     1.362415                       -0.121187\n",
            "41585                    -3.637585                       -0.777407\n",
            "41586                   -14.637585                       -0.996147\n",
            "41587                   -20.637585                       -1.214887\n",
            "\n",
            "[6774 rows x 2 columns]\n"
          ],
          "name": "stdout"
        }
      ]
    },
    {
      "cell_type": "markdown",
      "metadata": {
        "id": "U0mFn06c5bDC"
      },
      "source": [
        "Now, we can plot our data and view the relationship between our two sets of data."
      ]
    },
    {
      "cell_type": "code",
      "metadata": {
        "id": "Ztp40OwM6yQW",
        "colab": {
          "base_uri": "https://localhost:8080/",
          "height": 296
        },
        "outputId": "152c7744-6528-4146-841a-d4f5d4c4d026"
      },
      "source": [
        "plt.plot(pairedData[value1], pairedData[value2], '.', zorder=0)\n",
        "plt.title('Correlation between ' + sheet1 + ' and ' + sheet2)\n",
        "\n",
        "plt.quiver(0, 0, U[0][0], U[0][1], scale=10, color=['r'], zorder=1)\n",
        "plt.quiver(0, 0, U[1][0], U[1][1], scale=10, color=['y'], zorder=1)\n",
        "plt.xlabel(value1)\n",
        "plt.ylabel(value2)\n",
        "plt.show()"
      ],
      "execution_count": null,
      "outputs": [
        {
          "output_type": "display_data",
          "data": {
            "image/png": "[encoded data removed]",
            "text/plain": [
              "<Figure size 432x288 with 1 Axes>"
            ]
          },
          "metadata": {
            "tags": [],
            "needs_background": "light"
          }
        }
      ]
    },
    {
      "cell_type": "markdown",
      "metadata": {
        "id": "B5Ks7r5o5m3L"
      },
      "source": [
        "Among other things, $\\Sigma$ represents the strength of the correlation between each direction defined by our unit vectors. We can improve our plot by scaling each unit vector *u<sub>i</sub>* by their corresponding *$\\sigma$<sub>i</sub>* from $\\Sigma$."
      ]
    },
    {
      "cell_type": "code",
      "metadata": {
        "id": "9hlVOC1C8KEP",
        "colab": {
          "base_uri": "https://localhost:8080/",
          "height": 351
        },
        "outputId": "c873d131-6a3a-4145-9d6d-8d3702d07d18"
      },
      "source": [
        "print('\\u03C31: ' + str(S[0]))\n",
        "print('\\u03C32: ' + str(S[1]) + '\\n')\n",
        "\n",
        "plt.plot(pairedData[value1], pairedData[value2], '.', zorder=0)\n",
        "\n",
        "plt.quiver(0, 0, U[0][0], U[0][1], scale = 5, color=['r'], zorder=1)\n",
        "plt.quiver(0, 0, U[1][0], U[1][1], scale = 5*S[0]/S[1], color=['y'], zorder=1)\n",
        "plt.title('Correlation between ' + sheet1 + ' and ' + sheet2)\n",
        "plt.xlabel(value1)\n",
        "plt.ylabel(value2)\n",
        "plt.show()"
      ],
      "execution_count": null,
      "outputs": [
        {
          "output_type": "stream",
          "text": [
            "σ1: 2025.7863797369246\n",
            "σ2: 59.99711451263079\n",
            "\n"
          ],
          "name": "stdout"
        },
        {
          "output_type": "display_data",
          "data": {
            "image/png": "[encoded data removed]",
            "text/plain": [
              "<Figure size 432x288 with 1 Axes>"
            ]
          },
          "metadata": {
            "tags": [],
            "needs_background": "light"
          }
        }
      ]
    }
  ]
}